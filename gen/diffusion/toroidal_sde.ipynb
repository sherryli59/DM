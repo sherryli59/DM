{
 "cells": [
  {
   "cell_type": "code",
   "execution_count": 1,
   "metadata": {},
   "outputs": [
    {
     "name": "stderr",
     "output_type": "stream",
     "text": [
      "/home/sherryli/xsli/softwares/anaconda3/envs/nf/lib/python3.11/site-packages/MDAnalysis/topology/TPRParser.py:160: DeprecationWarning: 'xdrlib' is deprecated and slated for removal in Python 3.13\n",
      "  import xdrlib\n"
     ]
    }
   ],
   "source": [
    "import torch\n",
    "from gen.diffusion.sde import ToroidalDiffusion\n",
    "import matplotlib.pyplot as plt\n",
    "%load_ext autoreload\n",
    "%autoreload 2"
   ]
  },
  {
   "cell_type": "code",
   "execution_count": 10,
   "metadata": {},
   "outputs": [],
   "source": [
    "from torus import *"
   ]
  },
  {
   "cell_type": "code",
   "execution_count": 5,
   "metadata": {},
   "outputs": [],
   "source": [
    "from gen.diffusion.sde import ToroidalDiffusion\n",
    "import numpy as np"
   ]
  },
  {
   "cell_type": "code",
   "execution_count": 6,
   "metadata": {},
   "outputs": [
    {
     "name": "stdout",
     "output_type": "stream",
     "text": [
      "NoiseSchedule: min=0.1, max=20, t_range=tensor([1.0000e-04, 1.0000e+00])\n"
     ]
    }
   ],
   "source": [
    "sde = ToroidalDiffusion(sigma_min=0.01,sigma_max=1,ncells=10,\n",
    "                 max_nsteps=1000,eps=1e-4,periodic_boxlen=2*np.pi)"
   ]
  },
  {
   "cell_type": "code",
   "execution_count": 12,
   "metadata": {},
   "outputs": [],
   "source": [
    "t = torch.linspace(sde.eps,1,20)"
   ]
  },
  {
   "cell_type": "code",
   "execution_count": 13,
   "metadata": {},
   "outputs": [],
   "source": [
    "sigma = sde.sigma(t)"
   ]
  },
  {
   "cell_type": "code",
   "execution_count": 14,
   "metadata": {},
   "outputs": [
    {
     "data": {
      "text/plain": [
       "tensor([ 0.0317,  0.0140, -0.1371,  0.0423,  0.3826,  0.0127, -0.0396, -0.1232,\n",
       "        -0.2081,  0.2037,  0.3923, -0.2498,  0.9111,  2.4712, -1.3920, -2.0356,\n",
       "         2.9586,  0.7046,  0.7943,  3.0171], dtype=torch.float64)"
      ]
     },
     "execution_count": 14,
     "metadata": {},
     "output_type": "execute_result"
    }
   ],
   "source": [
    "sample(sigma)"
   ]
  },
  {
   "cell_type": "code",
   "execution_count": 16,
   "metadata": {},
   "outputs": [],
   "source": [
    "norm = score_norm(sigma.numpy())"
   ]
  },
  {
   "cell_type": "code",
   "execution_count": 17,
   "metadata": {},
   "outputs": [],
   "source": [
    "norm_2 = 1/sde.std_fn(t)**2"
   ]
  },
  {
   "cell_type": "code",
   "execution_count": 18,
   "metadata": {},
   "outputs": [
    {
     "data": {
      "text/plain": [
       "array([2.48516747e+02, 1.55025385e+02, 9.79154501e+01, 5.78977084e+01,\n",
       "       3.54760063e+01, 2.22101548e+01, 1.37343340e+01, 8.14235648e+00,\n",
       "       5.28905918e+00, 3.14891728e+00, 2.03351268e+00, 1.17983254e+00,\n",
       "       6.44702568e-01, 2.56318381e-01, 6.23435690e-02, 6.89116305e-03,\n",
       "       1.96504963e-04, 6.34743977e-07, 5.33721596e-11, 1.42357782e-17])"
      ]
     },
     "execution_count": 18,
     "metadata": {},
     "output_type": "execute_result"
    }
   ],
   "source": [
    "norm"
   ]
  },
  {
   "cell_type": "code",
   "execution_count": 31,
   "metadata": {},
   "outputs": [
    {
     "data": {
      "text/plain": [
       "array([ 5.69605897e+00, -2.93322990e+00,  5.01472697e-01,  6.62442949e+00,\n",
       "       -1.81936614e+00, -2.47640287e+00, -4.64218547e+00,  6.40463101e+00,\n",
       "       -5.01643632e-01,  6.35764821e-01,  5.99885161e-01, -2.25891539e+00,\n",
       "        1.06740835e+00,  5.13843340e-01,  3.14939772e-01, -6.59047279e-02,\n",
       "       -9.76563031e-03, -3.95432662e-04,  5.39711318e-06, -4.27999363e-09])"
      ]
     },
     "execution_count": 31,
     "metadata": {},
     "output_type": "execute_result"
    }
   ],
   "source": [
    "s = score(sample(sigma).numpy(),sigma.numpy())\n",
    "s"
   ]
  },
  {
   "cell_type": "code",
   "execution_count": 30,
   "metadata": {},
   "outputs": [
    {
     "data": {
      "text/plain": [
       "tensor([[ -7.8103],\n",
       "        [ -8.0936],\n",
       "        [ 85.6082],\n",
       "        [-15.1959],\n",
       "        [ 29.7149],\n",
       "        [ 29.7196],\n",
       "        [104.0842],\n",
       "        [ 39.0143],\n",
       "        [  2.8135],\n",
       "        [-12.8065],\n",
       "        [ 70.8869],\n",
       "        [-11.6442],\n",
       "        [-11.3021],\n",
       "        [-12.5705],\n",
       "        [ -2.0697],\n",
       "        [ 14.0076],\n",
       "        [ -9.6342],\n",
       "        [ -3.7809],\n",
       "        [-17.7417],\n",
       "        [  7.8984],\n",
       "        [ 33.1342],\n",
       "        [ 10.9088],\n",
       "        [ -4.8403],\n",
       "        [-10.7760],\n",
       "        [  3.3982],\n",
       "        [  0.3261],\n",
       "        [ -2.3129],\n",
       "        [ -8.6424],\n",
       "        [  4.3419],\n",
       "        [ -4.8314],\n",
       "        [ 88.1271],\n",
       "        [-15.0809],\n",
       "        [ 45.9128],\n",
       "        [-11.0788],\n",
       "        [-12.3470],\n",
       "        [-11.5721],\n",
       "        [  5.6624],\n",
       "        [  6.3310],\n",
       "        [ 71.7770],\n",
       "        [ 49.8449],\n",
       "        [ 15.7434],\n",
       "        [-11.0857],\n",
       "        [ 35.5266],\n",
       "        [-15.1430],\n",
       "        [ -9.3468],\n",
       "        [-11.0721],\n",
       "        [-11.3458],\n",
       "        [ 21.4510],\n",
       "        [-11.7860],\n",
       "        [-15.4246],\n",
       "        [ 20.5377],\n",
       "        [-16.9895],\n",
       "        [ -5.9952],\n",
       "        [ -2.1046],\n",
       "        [ 27.9010],\n",
       "        [ 72.8491],\n",
       "        [ 29.2087],\n",
       "        [ -7.5039],\n",
       "        [ -2.5116],\n",
       "        [-16.4643],\n",
       "        [ 82.2804],\n",
       "        [ 28.7563],\n",
       "        [  5.5428],\n",
       "        [ -7.5018],\n",
       "        [ 61.9301],\n",
       "        [  1.9081],\n",
       "        [ 41.8127],\n",
       "        [-16.7473],\n",
       "        [ -3.8235],\n",
       "        [ 32.1219],\n",
       "        [ 13.5863],\n",
       "        [ -8.7271],\n",
       "        [  2.1573],\n",
       "        [  6.2885],\n",
       "        [-11.0717],\n",
       "        [ -1.0808],\n",
       "        [ 11.2346],\n",
       "        [-11.6126],\n",
       "        [  0.8399],\n",
       "        [ 21.2538],\n",
       "        [ -4.4656],\n",
       "        [ -7.9589],\n",
       "        [-10.1815],\n",
       "        [-16.1622],\n",
       "        [  5.5793],\n",
       "        [-13.4672],\n",
       "        [  4.4297],\n",
       "        [-13.8708],\n",
       "        [-11.8356],\n",
       "        [ -2.9792],\n",
       "        [ -9.6262],\n",
       "        [ 10.8002],\n",
       "        [ -3.7085],\n",
       "        [ -6.6390],\n",
       "        [112.8970],\n",
       "        [  4.5904],\n",
       "        [-15.3059],\n",
       "        [ 43.3085],\n",
       "        [-14.4108],\n",
       "        [ 67.6845]])"
      ]
     },
     "execution_count": 30,
     "metadata": {},
     "output_type": "execute_result"
    }
   ],
   "source": [
    "import numpy as np\n",
    "from mcmc.distributions.double_well import DW\n",
    "data = np.load(\"/mnt/ssd/ml-boilerplate/logs/runs/DW/periodic/sample.npy\")\n",
    "sys = DW(boxlen=10)\n",
    "sys.potential(torch.tensor(data))"
   ]
  },
  {
   "cell_type": "code",
   "execution_count": 161,
   "metadata": {},
   "outputs": [
    {
     "data": {
      "text/plain": [
       "<matplotlib.collections.PathCollection at 0x7fc2ea558610>"
      ]
     },
     "execution_count": 161,
     "metadata": {},
     "output_type": "execute_result"
    },
    {
     "data": {
      "image/png": "[encoded data removed]",
      "text/plain": [
       "<Figure size 640x480 with 1 Axes>"
      ]
     },
     "metadata": {},
     "output_type": "display_data"
    }
   ],
   "source": [
    "import matplotlib.pyplot as plt\n",
    "plt.scatter(data[2,:,0], data[2,:,1], s=1)"
   ]
  },
  {
   "cell_type": "code",
   "execution_count": 79,
   "metadata": {},
   "outputs": [
    {
     "name": "stdout",
     "output_type": "stream",
     "text": [
      "NoiseSchedule: min=0.1, max=20, t_range=tensor([1.0000e-04, 1.0000e+00])\n"
     ]
    }
   ],
   "source": [
    "sde = ToroidalDiffusion(periodic_boxlen=1.0)"
   ]
  },
  {
   "cell_type": "code",
   "execution_count": 141,
   "metadata": {},
   "outputs": [],
   "source": [
    "x = (0.1*torch.randn(1000,10, 2))%1"
   ]
  },
  {
   "cell_type": "code",
   "execution_count": 142,
   "metadata": {},
   "outputs": [
    {
     "data": {
      "text/plain": [
       "(array([1.606e+03, 1.470e+03, 1.427e+03, 1.247e+03, 1.049e+03, 8.810e+02,\n",
       "        6.720e+02, 4.920e+02, 3.540e+02, 2.890e+02, 1.890e+02, 1.020e+02,\n",
       "        9.000e+01, 2.800e+01, 1.900e+01, 1.900e+01, 7.000e+00, 6.000e+00,\n",
       "        1.000e+00, 0.000e+00, 0.000e+00, 0.000e+00, 0.000e+00, 0.000e+00,\n",
       "        0.000e+00, 0.000e+00, 0.000e+00, 0.000e+00, 0.000e+00, 1.000e+00,\n",
       "        3.000e+00, 1.000e+00, 2.000e+00, 7.000e+00, 1.600e+01, 1.800e+01,\n",
       "        3.900e+01, 8.100e+01, 1.230e+02, 1.860e+02, 2.720e+02, 3.840e+02,\n",
       "        5.210e+02, 6.750e+02, 9.180e+02, 1.104e+03, 1.255e+03, 1.349e+03,\n",
       "        1.530e+03, 1.567e+03]),\n",
       " array([1.27066260e-05, 2.00123508e-02, 4.00119945e-02, 6.00116402e-02,\n",
       "        8.00112858e-02, 1.00010931e-01, 1.20010577e-01, 1.40010223e-01,\n",
       "        1.60009861e-01, 1.80009514e-01, 2.00009152e-01, 2.20008790e-01,\n",
       "        2.40008444e-01, 2.60008097e-01, 2.80007720e-01, 3.00007373e-01,\n",
       "        3.20007026e-01, 3.40006649e-01, 3.60006303e-01, 3.80005956e-01,\n",
       "        4.00005609e-01, 4.20005232e-01, 4.40004885e-01, 4.60004538e-01,\n",
       "        4.80004162e-01, 5.00003815e-01, 5.20003438e-01, 5.40003121e-01,\n",
       "        5.60002744e-01, 5.80002427e-01, 6.00002050e-01, 6.20001674e-01,\n",
       "        6.40001357e-01, 6.60000980e-01, 6.80000603e-01, 7.00000286e-01,\n",
       "        7.19999909e-01, 7.39999533e-01, 7.59999216e-01, 7.79998839e-01,\n",
       "        7.99998462e-01, 8.19998145e-01, 8.39997768e-01, 8.59997451e-01,\n",
       "        8.79997075e-01, 8.99996698e-01, 9.19996381e-01, 9.39996004e-01,\n",
       "        9.59995627e-01, 9.79995310e-01, 9.99994934e-01]),\n",
       " <BarContainer object of 50 artists>)"
      ]
     },
     "execution_count": 142,
     "metadata": {},
     "output_type": "execute_result"
    },
    {
     "data": {
      "image/png": "[encoded data removed]",
      "text/plain": [
       "<Figure size 640x480 with 1 Axes>"
      ]
     },
     "metadata": {},
     "output_type": "display_data"
    }
   ],
   "source": [
    "plt.hist(x.flatten().detach().numpy(), bins=50)"
   ]
  },
  {
   "cell_type": "code",
   "execution_count": 143,
   "metadata": {},
   "outputs": [],
   "source": [
    "t = 0.5*torch.ones(1000)\n",
    "output = sde.forward(x, t)"
   ]
  },
  {
   "cell_type": "code",
   "execution_count": 144,
   "metadata": {},
   "outputs": [],
   "source": [
    "diffused_x = output['diffused_x']\n",
    "score = output['score']\n",
    "score_2 = output['score_2']\n",
    "weight = output['weight']\n",
    "diffused_x_2 = output['diffused_x_2']"
   ]
  },
  {
   "cell_type": "code",
   "execution_count": 145,
   "metadata": {},
   "outputs": [
    {
     "data": {
      "text/plain": [
       "tensor([[[ 0.0000e+00, -9.5367e-07],\n",
       "         [ 4.5300e-06,  0.0000e+00],\n",
       "         [ 0.0000e+00,  1.9073e-06],\n",
       "         ...,\n",
       "         [ 7.6294e-06,  0.0000e+00],\n",
       "         [-1.4901e-06, -4.7684e-07],\n",
       "         [ 0.0000e+00,  3.8147e-06]],\n",
       "\n",
       "        [[-5.7220e-06, -5.9605e-06],\n",
       "         [ 7.1526e-07,  2.8610e-06],\n",
       "         [-3.8147e-06,  0.0000e+00],\n",
       "         ...,\n",
       "         [-5.7220e-06,  4.7684e-06],\n",
       "         [-6.6757e-06,  5.7220e-06],\n",
       "         [-4.7684e-07,  5.4836e-06]],\n",
       "\n",
       "        [[-4.7684e-07,  0.0000e+00],\n",
       "         [ 0.0000e+00,  0.0000e+00],\n",
       "         [-9.5367e-07,  0.0000e+00],\n",
       "         ...,\n",
       "         [ 1.1921e-06, -5.7220e-06],\n",
       "         [ 0.0000e+00,  5.2452e-06],\n",
       "         [-1.4305e-06, -5.7220e-06]],\n",
       "\n",
       "        ...,\n",
       "\n",
       "        [[ 2.8610e-06,  2.9802e-06],\n",
       "         [-7.4506e-07,  0.0000e+00],\n",
       "         [ 0.0000e+00, -5.7220e-06],\n",
       "         ...,\n",
       "         [-1.9073e-06, -5.7220e-06],\n",
       "         [ 3.5763e-06,  0.0000e+00],\n",
       "         [-6.3181e-06,  5.7220e-06]],\n",
       "\n",
       "        [[ 6.6757e-06, -3.7253e-06],\n",
       "         [ 6.4373e-06, -7.1526e-06],\n",
       "         [ 5.7220e-06,  0.0000e+00],\n",
       "         ...,\n",
       "         [-4.2915e-06, -6.0201e-06],\n",
       "         [-4.7684e-07,  4.0531e-06],\n",
       "         [ 0.0000e+00,  0.0000e+00]],\n",
       "\n",
       "        [[ 3.8147e-06, -4.7684e-07],\n",
       "         [-1.4305e-06, -5.9605e-06],\n",
       "         [ 0.0000e+00, -2.8610e-06],\n",
       "         ...,\n",
       "         [ 6.1989e-06,  5.7220e-06],\n",
       "         [ 5.7220e-06, -1.9073e-06],\n",
       "         [ 5.7220e-06,  0.0000e+00]]])"
      ]
     },
     "execution_count": 145,
     "metadata": {},
     "output_type": "execute_result"
    }
   ],
   "source": [
    "score-score_2"
   ]
  },
  {
   "cell_type": "code",
   "execution_count": 146,
   "metadata": {},
   "outputs": [
    {
     "data": {
      "text/plain": [
       "(array([2.83253462, 2.59503172, 2.71503293, 2.60253205, 2.25502735,\n",
       "        1.95252368, 1.920024  , 1.56251895, 1.36501656, 1.06501292,\n",
       "        0.9975121 , 0.75500916, 0.54000655, 0.46750602, 0.31750361,\n",
       "        0.26250338, 0.18250235, 0.13250151, 0.09750126, 0.07750088,\n",
       "        0.03750048, 0.03750043, 0.02000026, 0.01000011, 0.00500006,\n",
       "        0.01250016, 0.01000013, 0.02500032, 0.02000026, 0.06250062,\n",
       "        0.07500097, 0.12000154, 0.13250171, 0.15000193, 0.23750235,\n",
       "        0.37500483, 0.44500573, 0.64000824, 0.72000712, 0.9550123 ,\n",
       "        1.13001455, 1.33751722, 1.69252179, 1.90751887, 2.08502684,\n",
       "        2.27252926, 2.48503199, 2.71002681, 2.85503676, 2.74003528]),\n",
       " array([8.34465027e-06, 2.00081002e-02, 4.00078557e-02, 6.00076132e-02,\n",
       "        8.00073668e-02, 1.00007124e-01, 1.20006882e-01, 1.40006632e-01,\n",
       "        1.60006389e-01, 1.80006146e-01, 2.00005904e-01, 2.20005661e-01,\n",
       "        2.40005419e-01, 2.60005176e-01, 2.80004919e-01, 3.00004691e-01,\n",
       "        3.20004433e-01, 3.40004176e-01, 3.60003948e-01, 3.80003691e-01,\n",
       "        4.00003463e-01, 4.20003206e-01, 4.40002978e-01, 4.60002720e-01,\n",
       "        4.80002493e-01, 5.00002265e-01, 5.20002007e-01, 5.40001750e-01,\n",
       "        5.60001493e-01, 5.80001235e-01, 6.00001037e-01, 6.20000780e-01,\n",
       "        6.40000522e-01, 6.60000265e-01, 6.80000007e-01, 6.99999809e-01,\n",
       "        7.19999552e-01, 7.39999294e-01, 7.59999037e-01, 7.79998839e-01,\n",
       "        7.99998581e-01, 8.19998324e-01, 8.39998066e-01, 8.59997809e-01,\n",
       "        8.79997611e-01, 8.99997354e-01, 9.19997096e-01, 9.39996839e-01,\n",
       "        9.59996641e-01, 9.79996383e-01, 9.99996126e-01]),\n",
       " <BarContainer object of 50 artists>)"
      ]
     },
     "execution_count": 146,
     "metadata": {},
     "output_type": "execute_result"
    },
    {
     "data": {
      "image/png": "[encoded data removed]",
      "text/plain": [
       "<Figure size 640x480 with 1 Axes>"
      ]
     },
     "metadata": {},
     "output_type": "display_data"
    }
   ],
   "source": [
    "plt.hist(diffused_x_2.flatten().detach().numpy(), bins=50,density=True, alpha=0.5)\n",
    "plt.hist(diffused_x.flatten().detach().numpy(), bins=50,density=True, alpha=0.5)"
   ]
  },
  {
   "cell_type": "code",
   "execution_count": 150,
   "metadata": {},
   "outputs": [
    {
     "name": "stdout",
     "output_type": "stream",
     "text": [
      "torch.Size([1000, 10, 2])\n"
     ]
    }
   ],
   "source": [
    "print(score.shape)"
   ]
  },
  {
   "cell_type": "code",
   "execution_count": 153,
   "metadata": {},
   "outputs": [
    {
     "name": "stdout",
     "output_type": "stream",
     "text": [
      "tensor(2003.3657)\n",
      "tensor([2121.5693, 2107.0911, 2042.9276, 2132.4460, 2085.9033, 1886.7762,\n",
      "        2034.2126, 1993.0688, 2060.0007, 1951.6116, 2033.6121, 1893.2747,\n",
      "        1972.7949, 1980.5592, 2041.8892, 2069.2488, 1960.1835, 2001.5686,\n",
      "        2055.1042, 2071.6506, 1984.8588, 1951.7094, 2052.7368, 2028.9968,\n",
      "        2020.1892, 2049.6123, 1938.8474, 1953.3367, 2002.9827, 2045.7898,\n",
      "        2035.6627, 1973.4493, 2110.1594, 2176.9932, 2041.3030, 2020.5565,\n",
      "        2027.2502, 2033.7594, 1989.3062, 1982.0791, 1907.8655, 1865.5110,\n",
      "        2003.5781, 2013.8446, 1969.9878, 1987.8823, 1881.6729, 1951.4401,\n",
      "        2002.8281, 1923.5372, 1917.5864, 1996.0469, 1974.6451, 2005.8784,\n",
      "        2004.4503, 2041.2455, 2044.0323, 2018.4836, 1964.1887, 1944.1113,\n",
      "        2028.5723, 1956.4351, 2001.0820, 1987.9780, 1987.2727, 1991.5648,\n",
      "        1942.2188, 1850.1542, 1865.4376, 1975.7389, 1939.2433, 2018.6600,\n",
      "        2033.4122, 1777.3092, 1959.3854, 2028.9154, 2040.9033, 2014.1346,\n",
      "        1942.3036, 1970.8301, 1977.9398, 2146.8823, 1938.4119, 2005.7126,\n",
      "        2169.0828, 1906.4530, 1958.2959, 2026.8119, 2000.9487, 1972.7618,\n",
      "        1967.1747, 2049.9785, 1853.0758, 1935.6554, 2028.2040, 1919.4702,\n",
      "        2087.3025, 2001.1003, 2019.9548, 2089.0356, 2062.2917, 2052.5181,\n",
      "        1999.3682, 1973.3536, 2098.4539, 2034.6942, 2040.1896, 2125.8950,\n",
      "        2123.5176, 2006.0989, 2059.5042, 1923.6837, 2048.6921, 1998.5031,\n",
      "        1979.0250, 1949.8524, 1992.2192, 1984.1731, 2151.4724, 2011.3982,\n",
      "        1966.8685, 2024.1306, 1936.8561, 2004.4889, 2102.5945, 2038.5458,\n",
      "        2010.0422, 1953.4208, 2059.3169, 2091.9888, 1923.9688, 1911.5803,\n",
      "        2111.8687, 2059.6099, 1924.8970, 2003.9348, 2010.5056, 2077.5745,\n",
      "        2006.2926, 2041.3539, 1970.6406, 1972.3817, 2034.5619, 1932.6166,\n",
      "        2017.7194, 1946.5350, 2029.5157, 2068.8293, 2078.7234, 1961.8851,\n",
      "        2001.3571, 2034.5544, 1892.5190, 2017.3112, 1945.8080, 2011.4851,\n",
      "        1931.0374, 1988.3489, 2023.9386, 1894.8899, 1906.3085, 2100.3938,\n",
      "        1906.2866, 1914.9740, 1998.1571, 2038.1840, 2035.3354, 1902.4246,\n",
      "        1947.9253, 2035.0167, 1952.5441, 2061.8247, 2052.1895, 1989.4861,\n",
      "        2084.6204, 1971.0428, 2056.7976, 2081.7993, 1941.6489, 2039.0999,\n",
      "        1999.5909, 2097.8372, 2013.9153, 1944.2258, 1922.0010, 1965.1791,\n",
      "        1870.0220, 2049.7922, 2015.9900, 2111.7607, 2051.9719, 1967.4635,\n",
      "        1997.8431, 2003.1875, 2069.3713, 2095.2644, 1954.0923, 1963.6293,\n",
      "        2091.0518, 2002.6584, 1945.2997, 1982.5542, 2101.0530, 2048.1113,\n",
      "        1890.4935, 2048.0320, 1964.5299, 2072.0176, 1951.2357, 1951.9176,\n",
      "        1918.2654, 2047.0968, 2024.3237, 1914.6895, 2002.3647, 1932.4028,\n",
      "        1909.1683, 2048.6182, 1893.8744, 1961.2753, 2080.1602, 1988.7091,\n",
      "        1971.2778, 1923.2889, 2080.4817, 1972.8381, 2000.1405, 1977.1630,\n",
      "        1967.8666, 1941.2179, 2079.8828, 2058.9155, 1968.5688, 1991.1031,\n",
      "        2019.6869, 1913.0120, 2024.1749, 1978.2184, 1917.6776, 2109.2832,\n",
      "        2082.8904, 2004.8101, 1949.8916, 1976.6149, 1977.1249, 2001.4652,\n",
      "        1947.2482, 1962.7175, 2059.5295, 2010.0909, 2039.1099, 2039.7504,\n",
      "        1959.9871, 2005.8733, 1928.5607, 1907.4535, 2012.3534, 1959.3677,\n",
      "        2097.9194, 1985.0747, 1988.7139, 1974.0591, 2056.6931, 2027.0319,\n",
      "        1839.1868, 2134.8357, 1991.5475, 1989.4960, 1923.9121, 2017.7098,\n",
      "        2036.9269, 1974.6039, 2071.9702, 2094.7964, 2033.5519, 1988.4822,\n",
      "        2083.9907, 2038.0806, 1974.5925, 1996.4321, 2095.0930, 2002.5548,\n",
      "        2097.3552, 2024.5664, 1906.9955, 2000.4382, 1984.0587, 2046.8817,\n",
      "        1935.7953, 1962.5021, 2038.0912, 2029.9150, 2034.7477, 2037.8218,\n",
      "        1919.9146, 2020.8848, 2034.7457, 2036.6912, 2017.0316, 2025.2506,\n",
      "        1913.9911, 2042.8003, 2125.0137, 1969.2686, 2078.7527, 1982.1715,\n",
      "        1883.8402, 2008.6897, 1971.7504, 2040.2979, 2044.5471, 1963.7692,\n",
      "        1951.1508, 1920.3325, 2054.1550, 2015.3931, 2079.7871, 1969.2300,\n",
      "        1905.9783, 1961.3896, 1947.1709, 2005.2227, 2031.0514, 2082.9731,\n",
      "        1948.0170, 2028.0945, 2107.4385, 1980.9675, 1973.8158, 2023.7646,\n",
      "        2093.2441, 1922.8315, 2047.8511, 2000.9403, 2007.6299, 1930.8341,\n",
      "        1974.9598, 1884.0770, 1932.7131, 2025.9225, 2000.7552, 2003.8698,\n",
      "        2014.1117, 2008.0670, 2058.8728, 1944.0822, 2056.3589, 2058.5327,\n",
      "        1946.5079, 2024.8051, 2068.1721, 2083.3110, 2025.4963, 1928.8864,\n",
      "        2037.6074, 1953.5643, 1987.4396, 2050.0454, 1962.1000, 2041.8489,\n",
      "        1912.1307, 2079.2922, 1860.5336, 2124.7886, 1989.2775, 2052.3716,\n",
      "        2034.6744, 2027.8606, 2110.0012, 1951.6813, 1953.8280, 1970.7952,\n",
      "        1950.0162, 1945.7048, 1937.9072, 2038.9554, 2038.9084, 2031.8817,\n",
      "        1928.6155, 2017.1050, 2021.7427, 1886.8978, 1844.0754, 2019.2184,\n",
      "        2052.0242, 2001.7705, 2020.1244, 2138.8691, 2089.4966, 1883.4719,\n",
      "        1946.8627, 1978.1500, 1968.0061, 2053.8054, 1992.4254, 2015.1450,\n",
      "        1946.1705, 2099.6494, 2007.9840, 1999.8102, 1933.0017, 2001.4795,\n",
      "        2070.9026, 2065.9131, 1910.9833, 1984.7181, 1903.4474, 1966.0996,\n",
      "        1972.8755, 2093.4729, 1969.7115, 2055.6113, 1917.9951, 2059.9382,\n",
      "        1923.0391, 1972.2063, 2019.7612, 2030.2700, 2064.5444, 1997.5549,\n",
      "        2021.6013, 2061.2134, 1954.6405, 1975.8566, 2041.9979, 1939.8685,\n",
      "        2058.1177, 1941.7828, 2083.8557, 2025.9122, 2001.4147, 1928.4600,\n",
      "        1939.4592, 2203.0930, 2048.9824, 2075.8096, 1967.1606, 2090.3901,\n",
      "        1934.4602, 2066.9443, 1923.5280, 2022.9598, 2142.4453, 2143.6096,\n",
      "        1993.6571, 2064.1316, 1959.3197, 2009.1290, 1897.5168, 1999.4143,\n",
      "        1970.3978, 1990.8129, 2151.6875, 1914.0530, 1961.2795, 1979.2467,\n",
      "        1935.9139, 1961.6768, 2091.1133, 2042.3047, 2100.3330, 2006.5444,\n",
      "        2053.0398, 2001.5116, 2045.6765, 1940.9410, 1967.3990, 2059.1670,\n",
      "        1984.5045, 1928.6644, 2007.4146, 2016.1366, 1969.2317, 1990.8768,\n",
      "        2065.1946, 2018.9836, 1993.4724, 2005.3202, 2028.6621, 2056.6023,\n",
      "        1977.4987, 1971.0668, 1957.6686, 2008.6233, 1970.1147, 1995.8119,\n",
      "        1984.4095, 1990.6948, 2050.7134, 2062.7456, 2028.5884, 1987.0345,\n",
      "        1982.5610, 2089.0166, 1981.3561, 1946.4093, 1977.5524, 1978.6544,\n",
      "        2069.5066, 1984.8763, 2133.6001, 1917.7906, 1941.9944, 2086.8337,\n",
      "        2011.6222, 1880.9360, 1995.0232, 1974.5612, 2002.3104, 2010.3483,\n",
      "        2103.2310, 2121.9429, 1973.6477, 2007.5881, 2017.3090, 2068.7549,\n",
      "        2068.8228, 2092.2129, 2176.5808, 2074.6948, 2042.0739, 1928.3922,\n",
      "        2026.0146, 1986.3320, 2041.2430, 2004.2034, 2047.3704, 2038.3528,\n",
      "        1996.5463, 1999.8739, 2057.5073, 1985.2424, 2047.7170, 2071.5681,\n",
      "        2010.0453, 2022.5166, 2022.8191, 1845.2957, 1937.3812, 2083.0237,\n",
      "        2079.7029, 2061.4524, 2105.6118, 2056.9807, 2051.3423, 2004.2411,\n",
      "        2022.5486, 2028.9655, 1993.1071, 1955.8544, 1973.1901, 1932.5513,\n",
      "        1886.5771, 2152.9539, 1884.7360, 1887.0769, 1979.8951, 1983.8505,\n",
      "        1946.0811, 2000.9923, 2032.8463, 2003.8406, 1944.9152, 2115.3267,\n",
      "        2129.2683, 2065.2537, 2042.0469, 1897.5150, 1979.3541, 1939.9957,\n",
      "        2023.8070, 1917.1898, 1940.9526, 2125.2607, 2013.5262, 1941.1073,\n",
      "        2056.4221, 1987.2657, 2010.7496, 1931.4705, 2073.8799, 1974.7172,\n",
      "        2026.1941, 1978.0059, 1947.9209, 1941.4731, 2005.8613, 2076.5876,\n",
      "        1858.9498, 1853.8389, 2102.2759, 1961.2098, 1988.2883, 2080.2727,\n",
      "        2039.1028, 1900.7594, 2128.5918, 2065.3848, 2032.4435, 1992.2686,\n",
      "        2065.5693, 1945.3090, 1995.5912, 2009.2662, 1897.8553, 1974.2601,\n",
      "        2001.6338, 1931.6748, 2012.6693, 1962.9811, 2004.9147, 2143.4670,\n",
      "        1990.6445, 1970.8665, 1983.4036, 1974.9438, 1899.2607, 1742.8030,\n",
      "        1918.5845, 1966.7683, 1982.4312, 2102.4468, 2029.1222, 1987.9510,\n",
      "        2048.8074, 1989.8516, 1889.5405, 2031.8849, 1928.3635, 1946.6261,\n",
      "        2028.3783, 1981.2014, 1929.9099, 1834.5297, 1939.0426, 1891.6694,\n",
      "        2060.9919, 1996.1693, 2015.3524, 1980.7322, 2030.2695, 2006.2410,\n",
      "        1942.9460, 1884.4182, 2098.9648, 2009.5281, 2026.6344, 2042.7418,\n",
      "        1981.4091, 1966.9969, 1933.1365, 1977.8411, 1942.6255, 1924.3112,\n",
      "        1989.7999, 2017.0894, 1940.9033, 1831.7690, 1998.9425, 2088.6877,\n",
      "        1968.6552, 1937.0850, 2015.6084, 2020.7878, 1956.0043, 2008.1555,\n",
      "        1941.8816, 1984.2599, 2064.2039, 2054.1279, 1925.1233, 1942.4733,\n",
      "        1964.5486, 1999.7709, 1918.1825, 1915.5011, 1976.9675, 1998.2078,\n",
      "        1912.8080, 1950.9817, 2039.5603, 2043.1179, 2016.7700, 1944.4161,\n",
      "        2009.6140, 2030.0933, 1994.0388, 1992.9987, 1974.4718, 2050.8787,\n",
      "        2000.3041, 2047.3494, 2066.3118, 2057.8533, 2058.9690, 2003.3733,\n",
      "        1984.5098, 2147.4597, 2071.5557, 1991.7653, 1974.2186, 1981.0138,\n",
      "        1951.1469, 2032.5553, 2062.3792, 2047.8977, 1983.2360, 2020.1006,\n",
      "        1895.3385, 1995.1586, 1852.6589, 2036.4604, 1954.8298, 1955.8887,\n",
      "        1989.0692, 2003.9425, 1960.5436, 1967.8691, 2174.9368, 2035.7552,\n",
      "        1894.5649, 2034.6865, 2058.4053, 2007.3679, 1919.4806, 1997.3081,\n",
      "        1982.7928, 1957.6737, 1776.6632, 1930.8641, 2074.1772, 1939.9932,\n",
      "        2025.2008, 1972.2074, 2011.0900, 2063.9087, 2047.1967, 2050.9995,\n",
      "        2040.0348, 2020.5466, 2007.2046, 2090.3521, 2035.2413, 1881.3341,\n",
      "        1935.6646, 1903.6919, 2102.1807, 1935.2462, 1956.8030, 1890.0095,\n",
      "        1953.7288, 1889.9812, 2040.4387, 2115.5771, 1936.5607, 2076.5110,\n",
      "        1878.3228, 2035.3053, 1981.3005, 1919.2543, 1976.8026, 2042.8822,\n",
      "        1978.5175, 1918.0298, 1874.1300, 2077.2451, 2109.9045, 2023.5878,\n",
      "        2044.8586, 2052.6382, 2089.2820, 2123.4246, 1983.5875, 1962.3567,\n",
      "        2032.4823, 1981.8121, 2100.8921, 1950.3662, 1987.3159, 1985.3214,\n",
      "        2138.6990, 1983.3899, 2020.8551, 1983.2841, 1967.6099, 1874.4728,\n",
      "        2028.2725, 1894.5905, 1918.7476, 1950.1697, 1944.6272, 1911.0406,\n",
      "        1858.2375, 1931.0970, 1972.8812, 1960.1174, 1989.4041, 2048.2253,\n",
      "        2013.1860, 2007.5586, 2042.4771, 2005.5702, 2017.8888, 2005.9225,\n",
      "        1958.2550, 1977.1525, 1910.8784, 1935.7920, 2033.9028, 2125.6240,\n",
      "        1912.3468, 1965.5150, 2071.2202, 2029.6779, 1967.6685, 1912.9550,\n",
      "        2059.4065, 1982.9906, 2027.3545, 1913.5233, 2105.5095, 1914.4279,\n",
      "        2047.8413, 2092.9370, 1968.2863, 2051.2739, 1989.5146, 2109.4365,\n",
      "        1997.2397, 1978.9492, 1984.6278, 2020.6051, 2086.7151, 1975.2568,\n",
      "        2026.8867, 1930.4849, 2162.4814, 2010.4548, 2074.5029, 2109.4668,\n",
      "        1906.5016, 2039.7198, 1951.7115, 1838.8622, 2096.8955, 2016.7534,\n",
      "        1957.9441, 2064.9077, 2003.8850, 1970.5493, 2021.7343, 2010.7037,\n",
      "        1959.5205, 2027.6946, 2036.7494, 2130.8359, 1956.6949, 1990.5045,\n",
      "        2031.8546, 2103.3428, 2012.9393, 2053.4160, 1981.4664, 1913.9335,\n",
      "        2031.3381, 2016.3491, 1946.6066, 1976.2936, 2071.2483, 1951.2733,\n",
      "        2068.2217, 2044.7897, 1918.8691, 1959.7891, 2018.0997, 1977.8383,\n",
      "        2000.1971, 2101.6106, 2011.3170, 2036.5580, 1930.8979, 1923.5536,\n",
      "        2013.5533, 2040.5015, 1954.7891, 2029.2170, 2033.8793, 1977.8599,\n",
      "        2113.8613, 2052.5996, 1935.9683, 1933.7260, 1975.0515, 2003.6791,\n",
      "        2053.1313, 1988.0999, 2056.0532, 2004.2457, 1967.8921, 1973.6772,\n",
      "        2064.0349, 1966.7035, 1952.3712, 2042.6292, 1826.4031, 1988.6670,\n",
      "        1849.2251, 2024.8179, 1866.5787, 1983.2314, 1796.9135, 2135.5630,\n",
      "        1931.1530, 2061.9080, 1963.6044, 2002.3373, 2080.3196, 2047.7834,\n",
      "        1950.6646, 1951.5599, 1976.9639, 2028.8842, 1966.9847, 1960.0615,\n",
      "        1990.9409, 2020.5466, 1970.6898, 1952.8411, 2035.1688, 1933.9774,\n",
      "        1927.5344, 2003.4766, 1993.4703, 2037.5566, 1977.9719, 1984.8257,\n",
      "        1999.1848, 2029.7028, 2096.1138, 1930.8265, 1990.1171, 1929.3224,\n",
      "        1917.5968, 1975.6407, 2020.1892, 2075.9136, 2076.2603, 1964.7083,\n",
      "        2047.0017, 1954.8774, 2060.3186, 1996.1271, 1947.3898, 1966.0675,\n",
      "        2078.8127, 1833.0006, 2127.9243, 2048.1821, 2023.9878, 1982.9153,\n",
      "        2016.7792, 2032.2961, 2064.3062, 2022.3923, 2081.5791, 2023.0084,\n",
      "        2052.0718, 1955.6255, 2011.1663, 1977.7327, 1959.9576, 1973.7786,\n",
      "        1868.8840, 2011.2124, 1964.4088, 2041.9542, 1961.4275, 1861.6261,\n",
      "        2065.4216, 1875.3735, 2012.1354, 1942.5825, 1944.7555, 2040.9520,\n",
      "        2046.3170, 1952.3759, 2101.3027, 1994.0925, 1920.2355, 1936.1858,\n",
      "        2013.4392, 1861.1283, 1990.7610, 1997.7394, 1900.5775, 2087.6838,\n",
      "        2032.1062, 2030.5955, 2039.5155, 2004.4279])\n"
     ]
    }
   ],
   "source": [
    "print(torch.mean(torch.norm(score.reshape(len(score),-1), dim=1)**2))\n",
    "print(1/weight)"
   ]
  },
  {
   "cell_type": "code",
   "execution_count": 148,
   "metadata": {},
   "outputs": [
    {
     "name": "stdout",
     "output_type": "stream",
     "text": [
      "tensor(1999.3330)\n"
     ]
    },
    {
     "data": {
      "text/plain": [
       "tensor(64.3484)"
      ]
     },
     "execution_count": 148,
     "metadata": {},
     "output_type": "execute_result"
    }
   ],
   "source": [
    "print(torch.mean(1/weight))\n",
    "torch.std(1/weight)"
   ]
  }
 ],
 "metadata": {
  "kernelspec": {
   "display_name": "nf",
   "language": "python",
   "name": "python3"
  },
  "language_info": {
   "codemirror_mode": {
    "name": "ipython",
    "version": 3
   },
   "file_extension": ".py",
   "mimetype": "text/x-python",
   "name": "python",
   "nbconvert_exporter": "python",
   "pygments_lexer": "ipython3",
   "version": "3.11.3"
  },
  "vscode": {
   "interpreter": {
    "hash": "5a50af526a9532007db5bc48ba67de40b786fc3e756cebc3936df93939941046"
   }
  }
 },
 "nbformat": 4,
 "nbformat_minor": 2
}
